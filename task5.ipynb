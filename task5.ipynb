{
 "cells": [
  {
   "cell_type": "code",
   "execution_count": 1,
   "metadata": {},
   "outputs": [
    {
     "name": "stderr",
     "output_type": "stream",
     "text": [
      "/Users/xiachunxuan/miniconda3/lib/python3.10/site-packages/tqdm/auto.py:21: TqdmWarning: IProgress not found. Please update jupyter and ipywidgets. See https://ipywidgets.readthedocs.io/en/stable/user_install.html\n",
      "  from .autonotebook import tqdm as notebook_tqdm\n"
     ]
    }
   ],
   "source": [
    "import numpy as np\n",
    "from tqdm import tqdm\n",
    "\n",
    "import torch\n",
    "import torch.nn as nn\n",
    "import torch.optim as optim\n",
    "from torch.utils.data import Dataset, DataLoader, random_split\n",
    "\n",
    "from transformers import BertTokenizer"
   ]
  },
  {
   "cell_type": "code",
   "execution_count": 2,
   "metadata": {},
   "outputs": [],
   "source": [
    "def show_var(var_name: torch.tensor):\n",
    "    import inspect\n",
    "    # 获取当前帧\n",
    "    frame = inspect.currentframe().f_back\n",
    "    # 获取局部变量和全局变量\n",
    "    local_vars = frame.f_locals\n",
    "    global_vars = frame.f_globals\n",
    "\n",
    "    if var_name in local_vars:\n",
    "        var_value = local_vars[var_name]\n",
    "    elif var_name in global_vars:\n",
    "        var_value = global_vars[var_name]\n",
    "    else:\n",
    "        print(f\"Variable '{var_name}' not found.\")\n",
    "        return\n",
    "\n",
    "    if isinstance(var_value, torch.Tensor):\n",
    "        print(f\"{var_name}'s shape: {var_value.shape})\")\n",
    "    # else:\n",
    "    #     print(f\"{var_name} = {var_value}\")"
   ]
  },
  {
   "cell_type": "code",
   "execution_count": 3,
   "metadata": {},
   "outputs": [],
   "source": [
    "raw_text = ''\n",
    "with open(\"poetryFromTang.txt\", 'r') as f:\n",
    "    raw_text = f.read()"
   ]
  },
  {
   "cell_type": "code",
   "execution_count": 4,
   "metadata": {},
   "outputs": [],
   "source": [
    "tokenizer = BertTokenizer.from_pretrained('bert-base-chinese')"
   ]
  },
  {
   "cell_type": "code",
   "execution_count": 5,
   "metadata": {},
   "outputs": [],
   "source": [
    "def custom_tokenize(doc: str, base_tokenizer) -> list:\n",
    "    poetry = doc.split('\\n')\n",
    "    tokens = []\n",
    "    for line in poetry:\n",
    "        if line == '':\n",
    "            tokens.append('[SEP]')\n",
    "        else:\n",
    "            tokens.extend(base_tokenizer.tokenize(line))\n",
    "    return tokens"
   ]
  },
  {
   "cell_type": "code",
   "execution_count": 6,
   "metadata": {},
   "outputs": [],
   "source": [
    "tokens = custom_tokenize(raw_text, tokenizer)\n",
    "data = [tokenizer.convert_tokens_to_ids(token) for token in tokens]"
   ]
  },
  {
   "cell_type": "code",
   "execution_count": 7,
   "metadata": {},
   "outputs": [],
   "source": [
    "class SimpleTextDataset(Dataset):\n",
    "    def __init__(self, data, seq_length):\n",
    "        self.data = data\n",
    "        self.seq_length = seq_length\n",
    "\n",
    "    def __len__(self):\n",
    "        return len(self.data) - self.seq_length\n",
    "    \n",
    "    def __getitem__(self, index):\n",
    "        # token teacher forcing\n",
    "        X = self.data[index:index+self.seq_length]\n",
    "        y = self.data[index+1:index+self.seq_length+1]\n",
    "        return torch.tensor(X), torch.tensor(y)"
   ]
  },
  {
   "cell_type": "code",
   "execution_count": 8,
   "metadata": {},
   "outputs": [],
   "source": [
    "simple_dataset = SimpleTextDataset(data, 128)\n",
    "train_dataset, test_dataset = random_split(simple_dataset, [int(len(simple_dataset)*0.8), len(simple_dataset)-int(len(simple_dataset)*0.8)])\n",
    "\n",
    "train_dataloader = DataLoader(train_dataset, batch_size=32, shuffle=True)\n",
    "test_dataloader = DataLoader(test_dataset, batch_size=32, shuffle=True)"
   ]
  },
  {
   "cell_type": "code",
   "execution_count": 9,
   "metadata": {},
   "outputs": [],
   "source": [
    "class LSTMModel(nn.Module):\n",
    "    def __init__(self, vocab_size, hidden_size, num_layers) -> None:\n",
    "        super().__init__()\n",
    "        self.hidden_size = hidden_size\n",
    "        self.embed = nn.Embedding(vocab_size, hidden_size)\n",
    "        self.num_layers = num_layers\n",
    "        self.lstm = nn.LSTM(hidden_size, hidden_size, num_layers, batch_first=True)\n",
    "        self.fc = nn.Linear(hidden_size, vocab_size)\n",
    "        \n",
    "    def forward(self, x, hidden):\n",
    "        x = self.embed(x)\n",
    "        out, hidden = self.lstm(x, hidden)\n",
    "        # show_var('out')\n",
    "        # show_var('hidden')\n",
    "        out = self.fc(out.reshape(out.size(0)*out.size(1), out.size(2)))\n",
    "        return out, hidden\n",
    "    \n",
    "    def init_hidden(self, batch_size):\n",
    "        return (torch.zeros(self.num_layers, batch_size, self.hidden_size),\n",
    "                torch.zeros(self.num_layers, batch_size, self.hidden_size))"
   ]
  },
  {
   "cell_type": "code",
   "execution_count": null,
   "metadata": {},
   "outputs": [],
   "source": [
    "class Seq2Seq(nn.Module):\n",
    "    def __init__(self, vocab_size, hidden_dim, output_dim) -> None:\n",
    "        super().__init__()\n",
    "        self.encoder = nn.LSTM(hidden_dim, hidden_dim, batch_first=True)\n",
    "        self.decoder = nn.LSTM(hidden_dim, hidden_dim, batch_first=True)"
   ]
  },
  {
   "cell_type": "code",
   "execution_count": 10,
   "metadata": {},
   "outputs": [],
   "source": [
    "vocab_size = len(tokenizer)\n",
    "hidden_size = 128\n",
    "num_layers = 2\n",
    "learning_rate = 0.002\n",
    "num_epochs = 20"
   ]
  },
  {
   "cell_type": "code",
   "execution_count": 11,
   "metadata": {},
   "outputs": [],
   "source": [
    "device = torch.device('cuda' if torch.cuda.is_available() else 'cpu')\n",
    "\n",
    "lstm_model = LSTMModel(vocab_size, hidden_size, num_layers).to(device)\n",
    "criterion = nn.CrossEntropyLoss()\n",
    "lstm_optimizer = optim.Adam(lstm_model.parameters(), lr=learning_rate)\n",
    "\n",
    "# 训练模型\n",
    "def train_model(model, optimizer, dataloader, num_epochs):\n",
    "    model.train()\n",
    "    batch_size = 32\n",
    "    for epoch in range(num_epochs):\n",
    "        hidden = model.init_hidden(batch_size)\n",
    "        for i, (inputs, targets) in enumerate(tqdm(dataloader)):\n",
    "            batch_size = inputs.size(0)\n",
    "            hidden = model.init_hidden(batch_size)  # 动态初始化隐藏状态\n",
    "            inputs, targets = inputs.to(device), targets.to(device)\n",
    "            optimizer.zero_grad()\n",
    "            hidden = tuple([each.data for each in hidden])  # 清理计算图\n",
    "            outputs, hidden = model(inputs, hidden)\n",
    "            loss = criterion(outputs, targets.reshape(-1))\n",
    "            loss.backward()\n",
    "            optimizer.step()\n",
    "            if (i + 1) % 100 == 0:\n",
    "                print(f'Epoch [{epoch + 1}/{num_epochs}], Step [{i + 1}/{len(dataloader)}], Loss: {loss.item():.4f}')"
   ]
  },
  {
   "cell_type": "code",
   "execution_count": 12,
   "metadata": {},
   "outputs": [
    {
     "data": {
      "text/plain": [
       "15787"
      ]
     },
     "execution_count": 12,
     "metadata": {},
     "output_type": "execute_result"
    }
   ],
   "source": [
    "len(simple_dataset)"
   ]
  },
  {
   "cell_type": "code",
   "execution_count": 13,
   "metadata": {},
   "outputs": [
    {
     "name": "stderr",
     "output_type": "stream",
     "text": [
      " 25%|██▌       | 100/395 [00:30<01:35,  3.08it/s]"
     ]
    },
    {
     "name": "stdout",
     "output_type": "stream",
     "text": [
      "Epoch [1/1], Step [100/395], Loss: 6.4501\n"
     ]
    },
    {
     "name": "stderr",
     "output_type": "stream",
     "text": [
      " 51%|█████     | 200/395 [01:01<00:58,  3.31it/s]"
     ]
    },
    {
     "name": "stdout",
     "output_type": "stream",
     "text": [
      "Epoch [1/1], Step [200/395], Loss: 6.5279\n"
     ]
    },
    {
     "name": "stderr",
     "output_type": "stream",
     "text": [
      " 76%|███████▌  | 300/395 [01:32<00:29,  3.26it/s]"
     ]
    },
    {
     "name": "stdout",
     "output_type": "stream",
     "text": [
      "Epoch [1/1], Step [300/395], Loss: 6.5516\n"
     ]
    },
    {
     "name": "stderr",
     "output_type": "stream",
     "text": [
      "100%|██████████| 395/395 [02:01<00:00,  3.25it/s]\n"
     ]
    }
   ],
   "source": [
    "train_model(lstm_model, lstm_optimizer, train_dataloader, num_epochs=1)"
   ]
  },
  {
   "cell_type": "code",
   "execution_count": 18,
   "metadata": {},
   "outputs": [
    {
     "name": "stderr",
     "output_type": "stream",
     "text": [
      " 99%|█████████▉| 98/99 [00:12<00:00,  7.58it/s]"
     ]
    },
    {
     "name": "stdout",
     "output_type": "stream",
     "text": [
      "LSTM Perplexity: 635.7454\n"
     ]
    },
    {
     "name": "stderr",
     "output_type": "stream",
     "text": [
      "\n"
     ]
    }
   ],
   "source": [
    "batch_size = 32\n",
    "def calculate_perplexity(model, dataloader):\n",
    "    model.eval()\n",
    "    total_loss = 0\n",
    "    total_count = 0\n",
    "    with torch.no_grad():\n",
    "        for inputs, targets in tqdm(dataloader):\n",
    "            # if (inputs.size(0) != batch_size):\n",
    "            #     break\n",
    "            batch_size = inputs.shape[0]\n",
    "            hidden = model.init_hidden(batch_size)\n",
    "            outputs, hidden = model(inputs, hidden)\n",
    "            loss = criterion(outputs, targets.reshape(-1))\n",
    "            total_loss += loss.item() * np.prod(targets.shape)\n",
    "            total_count += np.prod(targets.shape)\n",
    "    perplexity = np.exp(total_loss / total_count)\n",
    "    return perplexity\n",
    "\n",
    "lstm_perplexity = calculate_perplexity(lstm_model, test_dataloader)\n",
    "print(f'LSTM Perplexity: {lstm_perplexity:.4f}')"
   ]
  },
  {
   "cell_type": "code",
   "execution_count": 21,
   "metadata": {},
   "outputs": [
    {
     "data": {
      "text/plain": [
       "7.876921305221732"
      ]
     },
     "execution_count": 21,
     "metadata": {},
     "output_type": "execute_result"
    }
   ],
   "source": [
    "np.log(2635.7454)\n",
    "\n",
    "# greedy Search"
   ]
  },
  {
   "cell_type": "code",
   "execution_count": null,
   "metadata": {},
   "outputs": [],
   "source": []
  }
 ],
 "metadata": {
  "kernelspec": {
   "display_name": "base",
   "language": "python",
   "name": "python3"
  },
  "language_info": {
   "codemirror_mode": {
    "name": "ipython",
    "version": 3
   },
   "file_extension": ".py",
   "mimetype": "text/x-python",
   "name": "python",
   "nbconvert_exporter": "python",
   "pygments_lexer": "ipython3",
   "version": "3.10.14"
  }
 },
 "nbformat": 4,
 "nbformat_minor": 2
}

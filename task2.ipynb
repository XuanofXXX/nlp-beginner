{
 "cells": [
  {
   "cell_type": "code",
   "execution_count": 1,
   "metadata": {},
   "outputs": [],
   "source": [
    "import pandas as pd\n",
    "import numpy as np\n",
    "import torch\n",
    "import torch.nn as nn\n",
    "import torch.optim as optim\n",
    "from sklearn.feature_extraction.text import CountVectorizer\n",
    "from sklearn.model_selection import train_test_split\n",
    "from sklearn.metrics import accuracy_score\n",
    "\n",
    "data = pd.read_csv('task1/train.tsv', sep='\\t')\n",
    "\n",
    "X = data['Phrase'].values\n",
    "y = data['Sentiment'].values"
   ]
  },
  {
   "cell_type": "code",
   "execution_count": 2,
   "metadata": {},
   "outputs": [],
   "source": [
    "# 将文本数据转换为词袋模型表示\n",
    "vectorizer = CountVectorizer()\n",
    "X_vectorized = vectorizer.fit_transform(X).toarray()\n",
    "\n",
    "# 分割数据集为训练集和测试集\n",
    "X_train, X_test, y_train, y_test = train_test_split(X_vectorized, y, test_size=0.2, random_state=42)"
   ]
  },
  {
   "cell_type": "code",
   "execution_count": 4,
   "metadata": {},
   "outputs": [
    {
     "name": "stderr",
     "output_type": "stream",
     "text": [
      "/var/folders/7v/0pft7_9d053gl9jmqh7tn0sr0000gn/T/ipykernel_63198/2340539402.py:1: UserWarning: To copy construct from a tensor, it is recommended to use sourceTensor.clone().detach() or sourceTensor.clone().detach().requires_grad_(True), rather than torch.tensor(sourceTensor).\n",
      "  X_train = torch.tensor(X_train, dtype=torch.float32)\n",
      "/var/folders/7v/0pft7_9d053gl9jmqh7tn0sr0000gn/T/ipykernel_63198/2340539402.py:2: UserWarning: To copy construct from a tensor, it is recommended to use sourceTensor.clone().detach() or sourceTensor.clone().detach().requires_grad_(True), rather than torch.tensor(sourceTensor).\n",
      "  y_train = torch.tensor(y_train, dtype=torch.long)\n",
      "/var/folders/7v/0pft7_9d053gl9jmqh7tn0sr0000gn/T/ipykernel_63198/2340539402.py:3: UserWarning: To copy construct from a tensor, it is recommended to use sourceTensor.clone().detach() or sourceTensor.clone().detach().requires_grad_(True), rather than torch.tensor(sourceTensor).\n",
      "  X_test = torch.tensor(X_test, dtype=torch.float32)\n",
      "/var/folders/7v/0pft7_9d053gl9jmqh7tn0sr0000gn/T/ipykernel_63198/2340539402.py:4: UserWarning: To copy construct from a tensor, it is recommended to use sourceTensor.clone().detach() or sourceTensor.clone().detach().requires_grad_(True), rather than torch.tensor(sourceTensor).\n",
      "  y_test = torch.tensor(y_test, dtype=torch.long)\n"
     ]
    },
    {
     "ename": "TypeError",
     "evalue": "new_ones() missing 1 required positional arguments: \"size\"",
     "output_type": "error",
     "traceback": [
      "\u001b[0;31m---------------------------------------------------------------------------\u001b[0m",
      "\u001b[0;31mTypeError\u001b[0m                                 Traceback (most recent call last)",
      "Cell \u001b[0;32mIn[4], line 5\u001b[0m\n\u001b[1;32m      3\u001b[0m X_test \u001b[38;5;241m=\u001b[39m torch\u001b[38;5;241m.\u001b[39mtensor(X_test, dtype\u001b[38;5;241m=\u001b[39mtorch\u001b[38;5;241m.\u001b[39mfloat32)\n\u001b[1;32m      4\u001b[0m y_test \u001b[38;5;241m=\u001b[39m torch\u001b[38;5;241m.\u001b[39mtensor(y_test, dtype\u001b[38;5;241m=\u001b[39mtorch\u001b[38;5;241m.\u001b[39mlong)\n\u001b[0;32m----> 5\u001b[0m \u001b[43mX_train\u001b[49m\u001b[38;5;241;43m.\u001b[39;49m\u001b[43mnew_ones\u001b[49m\u001b[43m(\u001b[49m\u001b[43m)\u001b[49m\n",
      "\u001b[0;31mTypeError\u001b[0m: new_ones() missing 1 required positional arguments: \"size\""
     ]
    }
   ],
   "source": [
    "X_train = torch.tensor(X_train, dtype=torch.float32)\n",
    "y_train = torch.tensor(y_train, dtype=torch.long)\n",
    "X_test = torch.tensor(X_test, dtype=torch.float32)\n",
    "y_test = torch.tensor(y_test, dtype=torch.long)"
   ]
  },
  {
   "cell_type": "code",
   "execution_count": 8,
   "metadata": {},
   "outputs": [
    {
     "data": {
      "text/plain": [
       "torch.Size([124848, 15240])"
      ]
     },
     "execution_count": 8,
     "metadata": {},
     "output_type": "execute_result"
    }
   ],
   "source": [
    "X_train.new_ones(size=X_train.shape)"
   ]
  },
  {
   "cell_type": "code",
   "execution_count": 4,
   "metadata": {},
   "outputs": [],
   "source": [
    "class LogisticRegression(nn.Module):\n",
    "    def __init__(self, input_dim, output_dim):\n",
    "        super(LogisticRegression, self).__init__()\n",
    "        self.linear = nn.Linear(input_dim, output_dim)\n",
    "    \n",
    "    def forward(self, x):\n",
    "        return self.linear(x)"
   ]
  },
  {
   "cell_type": "code",
   "execution_count": 5,
   "metadata": {},
   "outputs": [],
   "source": [
    "input_dim = X_train.shape[1]\n",
    "output_dim = len(np.unique(y))\n",
    "\n",
    "model = LogisticRegression(input_dim, output_dim)\n",
    "criterion = nn.CrossEntropyLoss()\n",
    "optimizer = optim.SGD(model.parameters(), lr=0.01)"
   ]
  },
  {
   "cell_type": "code",
   "execution_count": 6,
   "metadata": {},
   "outputs": [
    {
     "name": "stdout",
     "output_type": "stream",
     "text": [
      "0\n"
     ]
    }
   ],
   "source": [
    "num_epochs = 100\n",
    "losses = []\n",
    "for epoch in range(num_epochs):\n",
    "    print(epoch)\n",
    "    model.train()\n",
    "    \n",
    "    outputs = model(X_train)\n",
    "    loss = criterion(outputs, y_train)\n",
    "    losses.append(loss)\n",
    "    \n",
    "    optimizer.zero_grad()\n",
    "    loss.backward()\n",
    "    optimizer.step()\n",
    "    \n",
    "    if (epoch+1) % 10 == 0:\n",
    "        print(f'Epoch [{epoch+1}/{num_epochs}], Loss: {loss.item():.4f}')"
   ]
  },
  {
   "cell_type": "code",
   "execution_count": 1,
   "metadata": {},
   "outputs": [
    {
     "ename": "NameError",
     "evalue": "name 'model' is not defined",
     "output_type": "error",
     "traceback": [
      "\u001b[0;31m---------------------------------------------------------------------------\u001b[0m",
      "\u001b[0;31mNameError\u001b[0m                                 Traceback (most recent call last)",
      "Cell \u001b[0;32mIn[1], line 1\u001b[0m\n\u001b[0;32m----> 1\u001b[0m \u001b[43mmodel\u001b[49m\u001b[38;5;241m.\u001b[39meval()\n\u001b[1;32m      2\u001b[0m \u001b[38;5;28;01mwith\u001b[39;00m torch\u001b[38;5;241m.\u001b[39mno_grad():\n\u001b[1;32m      3\u001b[0m     outputs \u001b[38;5;241m=\u001b[39m model(X_test)\n",
      "\u001b[0;31mNameError\u001b[0m: name 'model' is not defined"
     ]
    }
   ],
   "source": [
    "model.eval()\n",
    "# 弃用no_grad()上下文管理器\n",
    "\n",
    "with torch.no_grad():\n",
    "    outputs = model(X_test)\n",
    "    _, predicted = torch.max(outputs, 1)\n",
    "    accuracy = accuracy_score(y_test, predicted)\n",
    "    print(f'Accuracy: {accuracy:.4f}')"
   ]
  },
  {
   "cell_type": "code",
   "execution_count": 12,
   "metadata": {},
   "outputs": [
    {
     "name": "stderr",
     "output_type": "stream",
     "text": [
      "/var/folders/7v/0pft7_9d053gl9jmqh7tn0sr0000gn/T/ipykernel_4226/1226015792.py:2: UserWarning: To copy construct from a tensor, it is recommended to use sourceTensor.clone().detach() or sourceTensor.clone().detach().requires_grad_(True), rather than torch.tensor(sourceTensor).\n",
      "  x = torch.tensor(x, dtype=torch.long)\n"
     ]
    }
   ],
   "source": [
    "x = torch.rand(12,50)\n",
    "x = torch.tensor(x, dtype=torch.long)"
   ]
  },
  {
   "cell_type": "code",
   "execution_count": 13,
   "metadata": {},
   "outputs": [],
   "source": [
    "embed = nn.Embedding(50, 10)"
   ]
  },
  {
   "cell_type": "code",
   "execution_count": 17,
   "metadata": {},
   "outputs": [
    {
     "data": {
      "text/plain": [
       "torch.Size([12, 50])"
      ]
     },
     "execution_count": 17,
     "metadata": {},
     "output_type": "execute_result"
    }
   ],
   "source": [
    "x.shape"
   ]
  },
  {
   "cell_type": "code",
   "execution_count": 23,
   "metadata": {},
   "outputs": [],
   "source": [
    "emd = embed(x)"
   ]
  },
  {
   "cell_type": "code",
   "execution_count": 28,
   "metadata": {},
   "outputs": [
    {
     "data": {
      "text/plain": [
       "tensor([[-0.6397,  1.3022,  1.0698, -0.4362,  2.5784,  0.9844, -0.0318,  0.6435,\n",
       "         -1.2964, -0.0383],\n",
       "        [-0.6397,  1.3022,  1.0698, -0.4362,  2.5784,  0.9844, -0.0318,  0.6435,\n",
       "         -1.2964, -0.0383],\n",
       "        [-0.6397,  1.3022,  1.0698, -0.4362,  2.5784,  0.9844, -0.0318,  0.6435,\n",
       "         -1.2964, -0.0383],\n",
       "        [-0.6397,  1.3022,  1.0698, -0.4362,  2.5784,  0.9844, -0.0318,  0.6435,\n",
       "         -1.2964, -0.0383],\n",
       "        [-0.6397,  1.3022,  1.0698, -0.4362,  2.5784,  0.9844, -0.0318,  0.6435,\n",
       "         -1.2964, -0.0383],\n",
       "        [-0.6397,  1.3022,  1.0698, -0.4362,  2.5784,  0.9844, -0.0318,  0.6435,\n",
       "         -1.2964, -0.0383],\n",
       "        [-0.6397,  1.3022,  1.0698, -0.4362,  2.5784,  0.9844, -0.0318,  0.6435,\n",
       "         -1.2964, -0.0383],\n",
       "        [-0.6397,  1.3022,  1.0698, -0.4362,  2.5784,  0.9844, -0.0318,  0.6435,\n",
       "         -1.2964, -0.0383],\n",
       "        [-0.6397,  1.3022,  1.0698, -0.4362,  2.5784,  0.9844, -0.0318,  0.6435,\n",
       "         -1.2964, -0.0383],\n",
       "        [-0.6397,  1.3022,  1.0698, -0.4362,  2.5784,  0.9844, -0.0318,  0.6435,\n",
       "         -1.2964, -0.0383],\n",
       "        [-0.6397,  1.3022,  1.0698, -0.4362,  2.5784,  0.9844, -0.0318,  0.6435,\n",
       "         -1.2964, -0.0383],\n",
       "        [-0.6397,  1.3022,  1.0698, -0.4362,  2.5784,  0.9844, -0.0318,  0.6435,\n",
       "         -1.2964, -0.0383],\n",
       "        [-0.6397,  1.3022,  1.0698, -0.4362,  2.5784,  0.9844, -0.0318,  0.6435,\n",
       "         -1.2964, -0.0383],\n",
       "        [-0.6397,  1.3022,  1.0698, -0.4362,  2.5784,  0.9844, -0.0318,  0.6435,\n",
       "         -1.2964, -0.0383],\n",
       "        [-0.6397,  1.3022,  1.0698, -0.4362,  2.5784,  0.9844, -0.0318,  0.6435,\n",
       "         -1.2964, -0.0383],\n",
       "        [-0.6397,  1.3022,  1.0698, -0.4362,  2.5784,  0.9844, -0.0318,  0.6435,\n",
       "         -1.2964, -0.0383],\n",
       "        [-0.6397,  1.3022,  1.0698, -0.4362,  2.5784,  0.9844, -0.0318,  0.6435,\n",
       "         -1.2964, -0.0383],\n",
       "        [-0.6397,  1.3022,  1.0698, -0.4362,  2.5784,  0.9844, -0.0318,  0.6435,\n",
       "         -1.2964, -0.0383],\n",
       "        [-0.6397,  1.3022,  1.0698, -0.4362,  2.5784,  0.9844, -0.0318,  0.6435,\n",
       "         -1.2964, -0.0383],\n",
       "        [-0.6397,  1.3022,  1.0698, -0.4362,  2.5784,  0.9844, -0.0318,  0.6435,\n",
       "         -1.2964, -0.0383],\n",
       "        [-0.6397,  1.3022,  1.0698, -0.4362,  2.5784,  0.9844, -0.0318,  0.6435,\n",
       "         -1.2964, -0.0383],\n",
       "        [-0.6397,  1.3022,  1.0698, -0.4362,  2.5784,  0.9844, -0.0318,  0.6435,\n",
       "         -1.2964, -0.0383],\n",
       "        [-0.6397,  1.3022,  1.0698, -0.4362,  2.5784,  0.9844, -0.0318,  0.6435,\n",
       "         -1.2964, -0.0383],\n",
       "        [-0.6397,  1.3022,  1.0698, -0.4362,  2.5784,  0.9844, -0.0318,  0.6435,\n",
       "         -1.2964, -0.0383],\n",
       "        [-0.6397,  1.3022,  1.0698, -0.4362,  2.5784,  0.9844, -0.0318,  0.6435,\n",
       "         -1.2964, -0.0383],\n",
       "        [-0.6397,  1.3022,  1.0698, -0.4362,  2.5784,  0.9844, -0.0318,  0.6435,\n",
       "         -1.2964, -0.0383],\n",
       "        [-0.6397,  1.3022,  1.0698, -0.4362,  2.5784,  0.9844, -0.0318,  0.6435,\n",
       "         -1.2964, -0.0383],\n",
       "        [-0.6397,  1.3022,  1.0698, -0.4362,  2.5784,  0.9844, -0.0318,  0.6435,\n",
       "         -1.2964, -0.0383],\n",
       "        [-0.6397,  1.3022,  1.0698, -0.4362,  2.5784,  0.9844, -0.0318,  0.6435,\n",
       "         -1.2964, -0.0383],\n",
       "        [-0.6397,  1.3022,  1.0698, -0.4362,  2.5784,  0.9844, -0.0318,  0.6435,\n",
       "         -1.2964, -0.0383],\n",
       "        [-0.6397,  1.3022,  1.0698, -0.4362,  2.5784,  0.9844, -0.0318,  0.6435,\n",
       "         -1.2964, -0.0383],\n",
       "        [-0.6397,  1.3022,  1.0698, -0.4362,  2.5784,  0.9844, -0.0318,  0.6435,\n",
       "         -1.2964, -0.0383],\n",
       "        [-0.6397,  1.3022,  1.0698, -0.4362,  2.5784,  0.9844, -0.0318,  0.6435,\n",
       "         -1.2964, -0.0383],\n",
       "        [-0.6397,  1.3022,  1.0698, -0.4362,  2.5784,  0.9844, -0.0318,  0.6435,\n",
       "         -1.2964, -0.0383],\n",
       "        [-0.6397,  1.3022,  1.0698, -0.4362,  2.5784,  0.9844, -0.0318,  0.6435,\n",
       "         -1.2964, -0.0383],\n",
       "        [-0.6397,  1.3022,  1.0698, -0.4362,  2.5784,  0.9844, -0.0318,  0.6435,\n",
       "         -1.2964, -0.0383],\n",
       "        [-0.6397,  1.3022,  1.0698, -0.4362,  2.5784,  0.9844, -0.0318,  0.6435,\n",
       "         -1.2964, -0.0383],\n",
       "        [-0.6397,  1.3022,  1.0698, -0.4362,  2.5784,  0.9844, -0.0318,  0.6435,\n",
       "         -1.2964, -0.0383],\n",
       "        [-0.6397,  1.3022,  1.0698, -0.4362,  2.5784,  0.9844, -0.0318,  0.6435,\n",
       "         -1.2964, -0.0383],\n",
       "        [-0.6397,  1.3022,  1.0698, -0.4362,  2.5784,  0.9844, -0.0318,  0.6435,\n",
       "         -1.2964, -0.0383],\n",
       "        [-0.6397,  1.3022,  1.0698, -0.4362,  2.5784,  0.9844, -0.0318,  0.6435,\n",
       "         -1.2964, -0.0383],\n",
       "        [-0.6397,  1.3022,  1.0698, -0.4362,  2.5784,  0.9844, -0.0318,  0.6435,\n",
       "         -1.2964, -0.0383],\n",
       "        [-0.6397,  1.3022,  1.0698, -0.4362,  2.5784,  0.9844, -0.0318,  0.6435,\n",
       "         -1.2964, -0.0383],\n",
       "        [-0.6397,  1.3022,  1.0698, -0.4362,  2.5784,  0.9844, -0.0318,  0.6435,\n",
       "         -1.2964, -0.0383],\n",
       "        [-0.6397,  1.3022,  1.0698, -0.4362,  2.5784,  0.9844, -0.0318,  0.6435,\n",
       "         -1.2964, -0.0383],\n",
       "        [-0.6397,  1.3022,  1.0698, -0.4362,  2.5784,  0.9844, -0.0318,  0.6435,\n",
       "         -1.2964, -0.0383],\n",
       "        [-0.6397,  1.3022,  1.0698, -0.4362,  2.5784,  0.9844, -0.0318,  0.6435,\n",
       "         -1.2964, -0.0383],\n",
       "        [-0.6397,  1.3022,  1.0698, -0.4362,  2.5784,  0.9844, -0.0318,  0.6435,\n",
       "         -1.2964, -0.0383],\n",
       "        [-0.6397,  1.3022,  1.0698, -0.4362,  2.5784,  0.9844, -0.0318,  0.6435,\n",
       "         -1.2964, -0.0383],\n",
       "        [-0.6397,  1.3022,  1.0698, -0.4362,  2.5784,  0.9844, -0.0318,  0.6435,\n",
       "         -1.2964, -0.0383]], grad_fn=<SelectBackward0>)"
      ]
     },
     "execution_count": 28,
     "metadata": {},
     "output_type": "execute_result"
    }
   ],
   "source": [
    "emd[0]"
   ]
  },
  {
   "cell_type": "code",
   "execution_count": null,
   "metadata": {},
   "outputs": [],
   "source": []
  }
 ],
 "metadata": {
  "kernelspec": {
   "display_name": "base",
   "language": "python",
   "name": "python3"
  },
  "language_info": {
   "codemirror_mode": {
    "name": "ipython",
    "version": 3
   },
   "file_extension": ".py",
   "mimetype": "text/x-python",
   "name": "python",
   "nbconvert_exporter": "python",
   "pygments_lexer": "ipython3",
   "version": "3.10.14"
  }
 },
 "nbformat": 4,
 "nbformat_minor": 2
}
